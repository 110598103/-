{
 "cells": [
  {
   "cell_type": "code",
   "execution_count": 4,
   "id": "6d831ff8",
   "metadata": {},
   "outputs": [
    {
     "name": "stdout",
     "output_type": "stream",
     "text": [
      "2067\n",
      "1866\n",
      "2044\n",
      "1926\n",
      "2026\n",
      "1868\n",
      "1897\n",
      "2011\n",
      "2067\n",
      "1901\n",
      "2008\n",
      "1877\n",
      "1863\n",
      "1880\n",
      "1960\n",
      "1855\n",
      "1897\n",
      "1896\n",
      "1879\n",
      "2067\n",
      "1862\n",
      "1876\n",
      "2016\n",
      "2023\n",
      "1955\n",
      "1940\n",
      "2039\n",
      "1851\n",
      "1914\n",
      "2025\n",
      "1889\n",
      "1926\n",
      "2067\n",
      "1881\n",
      "2035\n",
      "2034\n",
      "1941\n",
      "1857\n",
      "1879\n",
      "2014\n",
      "1872\n",
      "1905\n",
      "1865\n",
      "1880\n",
      "2067\n",
      "1875\n",
      "1870\n",
      "1863\n",
      "1891\n",
      "1962\n"
     ]
    }
   ],
   "source": [
    "from PIL import Image\n",
    "import numpy as np\n",
    "import tensorflow as tf\n",
    "import pathlib\n",
    "import os\n",
    "import matplotlib.pyplot as plt\n",
    "import pandas as pd\n",
    "import random\n",
    "import cv2\n",
    "yourPath='train/'\n",
    "allList = os.listdir(yourPath)\n",
    "table=[]\n",
    "for files in allList:\n",
    "  yourpath=yourPath+files\n",
    "  allfileList = os.listdir(yourpath)\n",
    "  validPath='valid/'+files\n",
    "  os.mkdir(validPath)\n",
    "  print(len(allfileList))\n",
    "  img_random=random.sample(allfileList,300)\n",
    "  for i in img_random:\n",
    "    img = cv2.imread(yourpath+'/'+i)\n",
    "    cv2.imwrite(validPath+'/'+i,img)\n",
    "    os.remove(yourpath+'/'+i)"
   ]
  },
  {
   "cell_type": "code",
   "execution_count": 3,
   "id": "f63bb8d9",
   "metadata": {},
   "outputs": [
    {
     "name": "stdout",
     "output_type": "stream",
     "text": [
      "Collecting opencv-python\n",
      "  Downloading opencv_python-4.5.4.60-cp38-cp38-win_amd64.whl (35.1 MB)\n",
      "Requirement already satisfied: numpy>=1.17.3 in c:\\users\\jeremychang\\appdata\\roaming\\python\\python38\\site-packages (from opencv-python) (1.19.5)\n",
      "Installing collected packages: opencv-python\n",
      "Successfully installed opencv-python-4.5.4.60\n",
      "Note: you may need to restart the kernel to use updated packages.\n"
     ]
    }
   ],
   "source": []
  }
 ],
 "metadata": {
  "kernelspec": {
   "display_name": "Python 3 (ipykernel)",
   "language": "python",
   "name": "python3"
  },
  "language_info": {
   "codemirror_mode": {
    "name": "ipython",
    "version": 3
   },
   "file_extension": ".py",
   "mimetype": "text/x-python",
   "name": "python",
   "nbconvert_exporter": "python",
   "pygments_lexer": "ipython3",
   "version": "3.8.8"
  }
 },
 "nbformat": 4,
 "nbformat_minor": 5
}
